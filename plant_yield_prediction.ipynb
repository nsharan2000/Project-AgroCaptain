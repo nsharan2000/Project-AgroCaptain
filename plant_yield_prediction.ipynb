{
  "nbformat": 4,
  "nbformat_minor": 0,
  "metadata": {
    "colab": {
      "name": "plant yield prediction.ipynb",
      "provenance": [],
      "mount_file_id": "10nbWrorEKJsNXlVBmKTJ9E79ACV__Z2Y",
      "authorship_tag": "ABX9TyNbcuBKShF9R8bWaYYgq4OM",
      "include_colab_link": true
    },
    "kernelspec": {
      "name": "python3",
      "display_name": "Python 3"
    },
    "language_info": {
      "name": "python"
    }
  },
  "cells": [
    {
      "cell_type": "markdown",
      "metadata": {
        "id": "view-in-github",
        "colab_type": "text"
      },
      "source": [
        "<a href=\"https://colab.research.google.com/github/nsharan2000/Project-AgroCaptain/blob/main/plant_yield_prediction.ipynb\" target=\"_parent\"><img src=\"https://colab.research.google.com/assets/colab-badge.svg\" alt=\"Open In Colab\"/></a>"
      ]
    },
    {
      "cell_type": "code",
      "metadata": {
        "id": "OG41-3-BGYew"
      },
      "source": [
        "# this is a code that is  influenced from the resource: https://github.com/Priyabrata017/Crop-prediction-using-Machine-Learning/blob/master/Crop_pred.py;\n",
        "\n",
        "\n",
        "# objective: predict the type of crop that is suitable for the agricultural land based on sensor values of the temperature"
      ],
      "execution_count": null,
      "outputs": []
    },
    {
      "cell_type": "code",
      "metadata": {
        "colab": {
          "base_uri": "https://localhost:8080/"
        },
        "id": "p40jVUinG_GD",
        "outputId": "61120407-68f2-477a-f56e-c9185cd686ca"
      },
      "source": [
        "#importing the required libraries\n",
        "import pandas as pd\n",
        "import numpy as np\n",
        "from sklearn.model_selection import train_test_split\n",
        "\n",
        "#Reading the csv file\n",
        "data=pd.read_csv('/content/drive/MyDrive/archive/cpdata.csv')\n",
        "print(data.head(1))\n",
        "\n",
        "#Creating dummy variable for target i.e label\n",
        "label= pd.get_dummies(data.label).iloc[: , 1:]\n",
        "data= pd.concat([data,label],axis=1)\n",
        "data.drop('label', axis=1,inplace=True)\n",
        "print('The data present in one row of the dataset is')\n",
        "print(data.head(1))\n",
        "train=data.iloc[:, 0:4].values\n",
        "test=data.iloc[: ,4:].values\n",
        "\n",
        "#Dividing the data into training and test set\n",
        "X_train,X_test,y_train,y_test=train_test_split(train,test,test_size=0.3, random_state = 22)\n",
        "\n",
        "from sklearn.preprocessing import StandardScaler\n",
        "sc = StandardScaler()\n",
        "X_train = sc.fit_transform(X_train)\n",
        "X_test = sc.transform(X_test)\n",
        "\n",
        "#Importing Decision Tree classifier\n",
        "from sklearn.tree import DecisionTreeRegressor\n",
        "clf=DecisionTreeRegressor()\n",
        "\n",
        "#Fitting the classifier into training set\n",
        "clf.fit(X_train,y_train)\n",
        "pred=clf.predict(X_test)\n",
        "print(\"pred\\n\",pred)\n",
        "print(\"X_test\\n\",X_test)\n",
        "print(\"Y_test\\n\",y_test)\n",
        "\n",
        "from sklearn.metrics import accuracy_score\n",
        "# Finding the accuracy of the model\n",
        "a=accuracy_score(y_test,pred)\n",
        "print(\"The accuracy of this model is: \", a*100)\n",
        "\n",
        "#Using firebase to import data to be tested\n",
        "# from firebase import firebase\n",
        "# firebase =firebase.FirebaseApplication('https://cropit-eb156.firebaseio.com/')\n",
        "# tp=firebase.get('/Realtime',None)\n",
        "\n",
        "# ah=tp['Air Humidity']\n",
        "# atemp=tp['Air Temp']\n",
        "# shum=tp['Soil Humidity']\n",
        "# pH=tp['Soil pH']\n",
        "# rain=tp['Rainfall']\n",
        "\n",
        "\n",
        "# l=[]\n",
        "# l.append(ah)\n",
        "# l.append(atemp)\n",
        "# l.append(pH)\n",
        "# l.append(rain)\n",
        "# predictcrop=[l]\n",
        "\n"
      ],
      "execution_count": null,
      "outputs": [
        {
          "output_type": "stream",
          "name": "stdout",
          "text": [
            "   temperature   humidity        ph    rainfall label\n",
            "0    20.879744  82.002744  6.502985  202.935536  rice\n",
            "The data present in one row of the dataset is\n",
            "   temperature   humidity        ph  ...  rice  watermelon  wheat\n",
            "0    20.879744  82.002744  6.502985  ...     1           0      0\n",
            "\n",
            "[1 rows x 34 columns]\n",
            "pred\n",
            " [[0. 0. 0. ... 0. 0. 0.]\n",
            " [0. 0. 0. ... 0. 0. 0.]\n",
            " [1. 0. 0. ... 0. 0. 0.]\n",
            " ...\n",
            " [0. 0. 0. ... 0. 1. 0.]\n",
            " [0. 0. 0. ... 0. 0. 0.]\n",
            " [0. 0. 0. ... 1. 0. 0.]]\n",
            "X_test\n",
            " [[-0.92086783  0.05130139 -0.33937724 -0.53006505]\n",
            " [-0.71747375  1.1937749  -0.59263225  0.02203247]\n",
            " [ 0.38375235  0.12453186  0.36958476 -0.68171535]\n",
            " ...\n",
            " [-0.04386827  0.87550857  0.6216907  -0.92146144]\n",
            " [ 1.13471643  0.71187015 -0.72424393 -0.58006246]\n",
            " [-0.91746399  0.63956459  1.55020497  2.35680151]]\n",
            "Y_test\n",
            " [[0 0 0 ... 0 0 0]\n",
            " [0 0 0 ... 0 0 0]\n",
            " [1 0 0 ... 0 0 0]\n",
            " ...\n",
            " [0 0 0 ... 0 1 0]\n",
            " [0 0 0 ... 0 0 0]\n",
            " [0 0 0 ... 1 0 0]]\n",
            "The accuracy of this model is:  90.0\n"
          ]
        }
      ]
    },
    {
      "cell_type": "code",
      "metadata": {
        "colab": {
          "base_uri": "https://localhost:8080/"
        },
        "id": "oqGh68kcPPe2",
        "outputId": "cee23328-a431-452e-85cb-179e95848889"
      },
      "source": [
        "np.array(data.iloc[: ,4:].columns)"
      ],
      "execution_count": null,
      "outputs": [
        {
          "output_type": "execute_result",
          "data": {
            "text/plain": [
              "array(['Black gram', 'Chickpea', 'Coconut', 'Coffee', 'Cotton',\n",
              "       'Ground Nut', 'Jute', 'Kidney Beans', 'Lentil', 'Moth Beans',\n",
              "       'Mung Bean', 'Peas', 'Pigeon Peas', 'Rubber', 'Sugarcane', 'Tea',\n",
              "       'Tobacco', 'apple', 'banana', 'grapes', 'maize', 'mango', 'millet',\n",
              "       'muskmelon', 'orange', 'papaya', 'pomegranate', 'rice',\n",
              "       'watermelon', 'wheat'], dtype=object)"
            ]
          },
          "metadata": {},
          "execution_count": 33
        }
      ]
    },
    {
      "cell_type": "code",
      "metadata": {
        "colab": {
          "base_uri": "https://localhost:8080/"
        },
        "id": "iqRIH0M2VZix",
        "outputId": "b7701ee0-30b6-49ee-b7b4-fcc2f593d558"
      },
      "source": [
        "type(X_test[:3])"
      ],
      "execution_count": null,
      "outputs": [
        {
          "output_type": "execute_result",
          "data": {
            "text/plain": [
              "numpy.ndarray"
            ]
          },
          "metadata": {},
          "execution_count": 53
        }
      ]
    },
    {
      "cell_type": "code",
      "metadata": {
        "colab": {
          "base_uri": "https://localhost:8080/"
        },
        "id": "caNuJRKuIRvx",
        "outputId": "a1e457f0-f0da-420b-a815-1e5165c91cdb"
      },
      "source": [
        "# # # Putting the names of crop in a single list\n",
        "# crops=['rice','wheat','mungbean','Tea','millet','maize','lentil','jute','cofee','cotton','ground nut','peas','rubber',  \n",
        "#        'sugarcane','tobacco','kidney beans','moth beans','coconut','blackgram','adzuki beans',\n",
        "#        'pigeon peas','chick peas','banana','grapes','apple','mango','muskmelon','orange','papaya','watermelon','pomegranate']\n",
        "\n",
        "\n",
        "# #sample values for testing\n",
        "# 20.2801937\t82.1235421\t7.236705436\t191.9535738\trice\n",
        "# 28.14720892\t83.8001509\t6.647965508\t37.44800463\tMung Bean\n",
        "# 25.19192419,\t66.6902901,\t5.913664501,\t78.06639649\tmaize\n",
        "# 17.47500984,\t16.54314829,\t6.18042747,\t93.35034262\tChickpea\n",
        "# 28.89578588\t94.78993038\t6.286515359\t23.0362503\tmuskmelon\n",
        "\n",
        "crops = np.array(data.iloc[: ,4:].columns);\n",
        "\n",
        "#Predicting the crop\n",
        "# predictions = clf.predict(X_test[:10])\n",
        "# print(X_test[3])\n",
        "#print(clf.predict(predictcrop))\n",
        "\n",
        "inputval = sc.transform([[17.47500984,\t16.54314829,\t6.18042747,\t93.35034262]]) #sample values for chickpeas\n",
        "predictions = clf.predict(inputval)\n",
        "\n",
        "count=0\n",
        "for i in range(0,30):\n",
        "    #print(predictions[3][i]);\n",
        "    if(predictions[0][i]==1):\n",
        "        c=crops[i]\n",
        "        count=count+1\n",
        "        break;\n",
        "    i=i+1\n",
        "if(count==0):\n",
        "    print(\"irregular data to predict. But a good suggestion would be to plant rice\")\n",
        "else:\n",
        "    print('The predicted crop is %s'%c)\n",
        "\n",
        "# #Sending the predicted crop to database\n",
        "# cp=firebase.put('/croppredicted','crop',c)"
      ],
      "execution_count": null,
      "outputs": [
        {
          "output_type": "stream",
          "name": "stdout",
          "text": [
            "The predicted crop is Chickpea\n"
          ]
        }
      ]
    }
  ]
}